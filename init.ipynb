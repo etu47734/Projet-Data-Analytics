{
 "cells": [
  {
   "cell_type": "markdown",
   "metadata": {},
   "source": [
    "# Setup"
   ]
  },
  {
   "cell_type": "code",
   "execution_count": 387,
   "metadata": {},
   "outputs": [
    {
     "data": {
      "text/html": [
       "<div>\n",
       "<style scoped>\n",
       "    .dataframe tbody tr th:only-of-type {\n",
       "        vertical-align: middle;\n",
       "    }\n",
       "\n",
       "    .dataframe tbody tr th {\n",
       "        vertical-align: top;\n",
       "    }\n",
       "\n",
       "    .dataframe thead th {\n",
       "        text-align: right;\n",
       "    }\n",
       "</style>\n",
       "<table border=\"1\" class=\"dataframe\">\n",
       "  <thead>\n",
       "    <tr style=\"text-align: right;\">\n",
       "      <th></th>\n",
       "      <th>date</th>\n",
       "      <th>client_id</th>\n",
       "      <th>card_id</th>\n",
       "      <th>amount</th>\n",
       "      <th>use_chip</th>\n",
       "      <th>merchant_id</th>\n",
       "      <th>merchant_city</th>\n",
       "      <th>merchant_state</th>\n",
       "      <th>zip</th>\n",
       "      <th>mcc</th>\n",
       "      <th>errors</th>\n",
       "    </tr>\n",
       "    <tr>\n",
       "      <th>id</th>\n",
       "      <th></th>\n",
       "      <th></th>\n",
       "      <th></th>\n",
       "      <th></th>\n",
       "      <th></th>\n",
       "      <th></th>\n",
       "      <th></th>\n",
       "      <th></th>\n",
       "      <th></th>\n",
       "      <th></th>\n",
       "      <th></th>\n",
       "    </tr>\n",
       "  </thead>\n",
       "  <tbody>\n",
       "    <tr>\n",
       "      <th>7475327</th>\n",
       "      <td>2010-01-01 00:01:00</td>\n",
       "      <td>1556</td>\n",
       "      <td>2972</td>\n",
       "      <td>$-77.00</td>\n",
       "      <td>Swipe Transaction</td>\n",
       "      <td>59935</td>\n",
       "      <td>Beulah</td>\n",
       "      <td>ND</td>\n",
       "      <td>58523.0</td>\n",
       "      <td>5499</td>\n",
       "      <td>NaN</td>\n",
       "    </tr>\n",
       "    <tr>\n",
       "      <th>7475328</th>\n",
       "      <td>2010-01-01 00:02:00</td>\n",
       "      <td>561</td>\n",
       "      <td>4575</td>\n",
       "      <td>$14.57</td>\n",
       "      <td>Swipe Transaction</td>\n",
       "      <td>67570</td>\n",
       "      <td>Bettendorf</td>\n",
       "      <td>IA</td>\n",
       "      <td>52722.0</td>\n",
       "      <td>5311</td>\n",
       "      <td>NaN</td>\n",
       "    </tr>\n",
       "    <tr>\n",
       "      <th>7475329</th>\n",
       "      <td>2010-01-01 00:02:00</td>\n",
       "      <td>1129</td>\n",
       "      <td>102</td>\n",
       "      <td>$80.00</td>\n",
       "      <td>Swipe Transaction</td>\n",
       "      <td>27092</td>\n",
       "      <td>Vista</td>\n",
       "      <td>CA</td>\n",
       "      <td>92084.0</td>\n",
       "      <td>4829</td>\n",
       "      <td>NaN</td>\n",
       "    </tr>\n",
       "    <tr>\n",
       "      <th>7475331</th>\n",
       "      <td>2010-01-01 00:05:00</td>\n",
       "      <td>430</td>\n",
       "      <td>2860</td>\n",
       "      <td>$200.00</td>\n",
       "      <td>Swipe Transaction</td>\n",
       "      <td>27092</td>\n",
       "      <td>Crown Point</td>\n",
       "      <td>IN</td>\n",
       "      <td>46307.0</td>\n",
       "      <td>4829</td>\n",
       "      <td>NaN</td>\n",
       "    </tr>\n",
       "    <tr>\n",
       "      <th>7475332</th>\n",
       "      <td>2010-01-01 00:06:00</td>\n",
       "      <td>848</td>\n",
       "      <td>3915</td>\n",
       "      <td>$46.41</td>\n",
       "      <td>Swipe Transaction</td>\n",
       "      <td>13051</td>\n",
       "      <td>Harwood</td>\n",
       "      <td>MD</td>\n",
       "      <td>20776.0</td>\n",
       "      <td>5813</td>\n",
       "      <td>NaN</td>\n",
       "    </tr>\n",
       "    <tr>\n",
       "      <th>...</th>\n",
       "      <td>...</td>\n",
       "      <td>...</td>\n",
       "      <td>...</td>\n",
       "      <td>...</td>\n",
       "      <td>...</td>\n",
       "      <td>...</td>\n",
       "      <td>...</td>\n",
       "      <td>...</td>\n",
       "      <td>...</td>\n",
       "      <td>...</td>\n",
       "      <td>...</td>\n",
       "    </tr>\n",
       "    <tr>\n",
       "      <th>8966547</th>\n",
       "      <td>2010-12-31 23:48:00</td>\n",
       "      <td>1941</td>\n",
       "      <td>1109</td>\n",
       "      <td>$2.39</td>\n",
       "      <td>Swipe Transaction</td>\n",
       "      <td>77275</td>\n",
       "      <td>Campbell</td>\n",
       "      <td>TX</td>\n",
       "      <td>75422.0</td>\n",
       "      <td>5812</td>\n",
       "      <td>NaN</td>\n",
       "    </tr>\n",
       "    <tr>\n",
       "      <th>8966548</th>\n",
       "      <td>2010-12-31 23:49:00</td>\n",
       "      <td>1145</td>\n",
       "      <td>5444</td>\n",
       "      <td>$20.39</td>\n",
       "      <td>Swipe Transaction</td>\n",
       "      <td>56060</td>\n",
       "      <td>Appleton</td>\n",
       "      <td>WI</td>\n",
       "      <td>54913.0</td>\n",
       "      <td>4121</td>\n",
       "      <td>NaN</td>\n",
       "    </tr>\n",
       "    <tr>\n",
       "      <th>8966549</th>\n",
       "      <td>2010-12-31 23:51:00</td>\n",
       "      <td>487</td>\n",
       "      <td>2835</td>\n",
       "      <td>$85.75</td>\n",
       "      <td>Swipe Transaction</td>\n",
       "      <td>36936</td>\n",
       "      <td>Albany</td>\n",
       "      <td>NY</td>\n",
       "      <td>12203.0</td>\n",
       "      <td>4900</td>\n",
       "      <td>NaN</td>\n",
       "    </tr>\n",
       "    <tr>\n",
       "      <th>8966550</th>\n",
       "      <td>2010-12-31 23:54:00</td>\n",
       "      <td>234</td>\n",
       "      <td>2052</td>\n",
       "      <td>$60.00</td>\n",
       "      <td>Swipe Transaction</td>\n",
       "      <td>27092</td>\n",
       "      <td>Dallas</td>\n",
       "      <td>TX</td>\n",
       "      <td>75208.0</td>\n",
       "      <td>4829</td>\n",
       "      <td>NaN</td>\n",
       "    </tr>\n",
       "    <tr>\n",
       "      <th>8966551</th>\n",
       "      <td>2010-12-31 23:56:00</td>\n",
       "      <td>162</td>\n",
       "      <td>2240</td>\n",
       "      <td>$140.96</td>\n",
       "      <td>Swipe Transaction</td>\n",
       "      <td>15574</td>\n",
       "      <td>Mcallen</td>\n",
       "      <td>TX</td>\n",
       "      <td>78503.0</td>\n",
       "      <td>3393</td>\n",
       "      <td>NaN</td>\n",
       "    </tr>\n",
       "  </tbody>\n",
       "</table>\n",
       "<p>1240880 rows × 11 columns</p>\n",
       "</div>"
      ],
      "text/plain": [
       "                        date  client_id  card_id   amount           use_chip  \\\n",
       "id                                                                             \n",
       "7475327  2010-01-01 00:01:00       1556     2972  $-77.00  Swipe Transaction   \n",
       "7475328  2010-01-01 00:02:00        561     4575   $14.57  Swipe Transaction   \n",
       "7475329  2010-01-01 00:02:00       1129      102   $80.00  Swipe Transaction   \n",
       "7475331  2010-01-01 00:05:00        430     2860  $200.00  Swipe Transaction   \n",
       "7475332  2010-01-01 00:06:00        848     3915   $46.41  Swipe Transaction   \n",
       "...                      ...        ...      ...      ...                ...   \n",
       "8966547  2010-12-31 23:48:00       1941     1109    $2.39  Swipe Transaction   \n",
       "8966548  2010-12-31 23:49:00       1145     5444   $20.39  Swipe Transaction   \n",
       "8966549  2010-12-31 23:51:00        487     2835   $85.75  Swipe Transaction   \n",
       "8966550  2010-12-31 23:54:00        234     2052   $60.00  Swipe Transaction   \n",
       "8966551  2010-12-31 23:56:00        162     2240  $140.96  Swipe Transaction   \n",
       "\n",
       "         merchant_id merchant_city merchant_state      zip   mcc errors  \n",
       "id                                                                       \n",
       "7475327        59935        Beulah             ND  58523.0  5499    NaN  \n",
       "7475328        67570    Bettendorf             IA  52722.0  5311    NaN  \n",
       "7475329        27092         Vista             CA  92084.0  4829    NaN  \n",
       "7475331        27092   Crown Point             IN  46307.0  4829    NaN  \n",
       "7475332        13051       Harwood             MD  20776.0  5813    NaN  \n",
       "...              ...           ...            ...      ...   ...    ...  \n",
       "8966547        77275      Campbell             TX  75422.0  5812    NaN  \n",
       "8966548        56060      Appleton             WI  54913.0  4121    NaN  \n",
       "8966549        36936        Albany             NY  12203.0  4900    NaN  \n",
       "8966550        27092        Dallas             TX  75208.0  4829    NaN  \n",
       "8966551        15574       Mcallen             TX  78503.0  3393    NaN  \n",
       "\n",
       "[1240880 rows x 11 columns]"
      ]
     },
     "execution_count": 387,
     "metadata": {},
     "output_type": "execute_result"
    }
   ],
   "source": [
    "\n",
    "import pandas as pd\n",
    "import seaborn as sns\n",
    "import matplotlib.pyplot as plt\n",
    "\n",
    "pd.plotting.register_matplotlib_converters()\n",
    "%matplotlib inline\n",
    "\n",
    "transactions = pd.read_csv(\"./financial_transactions/transactions_data.csv\")\n",
    "transactions.set_index(\"id\")\n"
   ]
  },
  {
   "cell_type": "markdown",
   "metadata": {},
   "source": [
    "# Présentation des données transactions\n",
    "Nous intérprétons les données suivantes:\n",
    "- client_id comme Client\n",
    "- merchant_xxx comme Magasin\n",
    "\n",
    "NB: La colonne 'mcc' représente des codes correspondant à la catégorie de l'achat. Ces codes sont repris dans le fichier `mcc_codes.json`.\n",
    "Son utilisation ici ne sera pas très pertinente, nous ignorerons cette colonne"
   ]
  },
  {
   "cell_type": "code",
   "execution_count": 388,
   "metadata": {},
   "outputs": [
    {
     "data": {
      "text/plain": [
       "client_id\n",
       "0       1113\n",
       "1        997\n",
       "2       1025\n",
       "3        527\n",
       "4       1504\n",
       "        ... \n",
       "1994      64\n",
       "1995    1191\n",
       "1996     849\n",
       "1997    1080\n",
       "1998     388\n",
       "Name: client_id, Length: 1137, dtype: int64"
      ]
     },
     "execution_count": 388,
     "metadata": {},
     "output_type": "execute_result"
    }
   ],
   "source": [
    "transactions.groupby('client_id').client_id.count() # 1137 clients uniques\n"
   ]
  },
  {
   "cell_type": "code",
   "execution_count": 389,
   "metadata": {},
   "outputs": [
    {
     "name": "stderr",
     "output_type": "stream",
     "text": [
      "C:\\Users\\Hugo\\AppData\\Local\\Temp\\ipykernel_30304\\1003607640.py:3: DeprecationWarning: DataFrameGroupBy.apply operated on the grouping columns. This behavior is deprecated, and in a future version of pandas the grouping columns will be excluded from the operation. Either pass `include_groups=False` to exclude the groupings or explicitly select the grouping columns after groupby to silence this warning.\n",
      "  transactions.groupby([\"merchant_state\", \"merchant_id\"]).apply(lambda df: df.loc[df.amount.idxmax()]).amount\n"
     ]
    },
    {
     "data": {
      "text/plain": [
       "merchant_state  merchant_id\n",
       "AK              2602           $128.44\n",
       "                5248            $84.21\n",
       "                7257           $751.42\n",
       "                11468           $34.24\n",
       "                12636           $25.32\n",
       "                                ...   \n",
       "WY              90461            $9.79\n",
       "                90709           $93.48\n",
       "                92883           $56.69\n",
       "                94625           $32.15\n",
       "                96049           $74.82\n",
       "Name: amount, Length: 41378, dtype: object"
      ]
     },
     "execution_count": 389,
     "metadata": {},
     "output_type": "execute_result"
    }
   ],
   "source": [
    "# Classement de la plus grosse transaction par magasin et par état\n",
    "\n",
    "transactions.groupby([\"merchant_state\", \"merchant_id\"]).apply(lambda df: df.loc[df.amount.idxmax()]).amount\n",
    "# On groupe les états et les identifiants des magasins, et on trie le montant de chaque transaction (ASC)\n",
    "# Et on y lie le montant correspondant."
   ]
  },
  {
   "cell_type": "code",
   "execution_count": 390,
   "metadata": {},
   "outputs": [
    {
     "name": "stderr",
     "output_type": "stream",
     "text": [
      "C:\\Users\\Hugo\\AppData\\Local\\Temp\\ipykernel_30304\\3133034948.py:2: FutureWarning: The provided callable <built-in function min> is currently using SeriesGroupBy.min. In a future version of pandas, the provided callable will be used directly. To keep current behavior pass the string \"min\" instead.\n",
      "  transactions.groupby([\"merchant_state\"]).amount.agg([len, min, max])\n",
      "C:\\Users\\Hugo\\AppData\\Local\\Temp\\ipykernel_30304\\3133034948.py:2: FutureWarning: The provided callable <built-in function max> is currently using SeriesGroupBy.max. In a future version of pandas, the provided callable will be used directly. To keep current behavior pass the string \"max\" instead.\n",
      "  transactions.groupby([\"merchant_state\"]).amount.agg([len, min, max])\n"
     ]
    },
    {
     "data": {
      "text/html": [
       "<div>\n",
       "<style scoped>\n",
       "    .dataframe tbody tr th:only-of-type {\n",
       "        vertical-align: middle;\n",
       "    }\n",
       "\n",
       "    .dataframe tbody tr th {\n",
       "        vertical-align: top;\n",
       "    }\n",
       "\n",
       "    .dataframe thead th {\n",
       "        text-align: right;\n",
       "    }\n",
       "</style>\n",
       "<table border=\"1\" class=\"dataframe\">\n",
       "  <thead>\n",
       "    <tr style=\"text-align: right;\">\n",
       "      <th></th>\n",
       "      <th>len</th>\n",
       "      <th>min</th>\n",
       "      <th>max</th>\n",
       "    </tr>\n",
       "    <tr>\n",
       "      <th>merchant_state</th>\n",
       "      <th></th>\n",
       "      <th></th>\n",
       "      <th></th>\n",
       "    </tr>\n",
       "  </thead>\n",
       "  <tbody>\n",
       "    <tr>\n",
       "      <th>AK</th>\n",
       "      <td>793</td>\n",
       "      <td>$-102.00</td>\n",
       "      <td>$99.79</td>\n",
       "    </tr>\n",
       "    <tr>\n",
       "      <th>AL</th>\n",
       "      <td>16670</td>\n",
       "      <td>$-100.00</td>\n",
       "      <td>$999.00</td>\n",
       "    </tr>\n",
       "    <tr>\n",
       "      <th>AR</th>\n",
       "      <td>9554</td>\n",
       "      <td>$-100.00</td>\n",
       "      <td>$99.89</td>\n",
       "    </tr>\n",
       "    <tr>\n",
       "      <th>AZ</th>\n",
       "      <td>18554</td>\n",
       "      <td>$-100.00</td>\n",
       "      <td>$99.99</td>\n",
       "    </tr>\n",
       "    <tr>\n",
       "      <th>Andorra</th>\n",
       "      <td>32</td>\n",
       "      <td>$10.76</td>\n",
       "      <td>$47.64</td>\n",
       "    </tr>\n",
       "    <tr>\n",
       "      <th>...</th>\n",
       "      <td>...</td>\n",
       "      <td>...</td>\n",
       "      <td>...</td>\n",
       "    </tr>\n",
       "    <tr>\n",
       "      <th>Vietnam</th>\n",
       "      <td>11</td>\n",
       "      <td>$-219.00</td>\n",
       "      <td>$264.37</td>\n",
       "    </tr>\n",
       "    <tr>\n",
       "      <th>WA</th>\n",
       "      <td>29038</td>\n",
       "      <td>$-100.00</td>\n",
       "      <td>$998.37</td>\n",
       "    </tr>\n",
       "    <tr>\n",
       "      <th>WI</th>\n",
       "      <td>17067</td>\n",
       "      <td>$-100.00</td>\n",
       "      <td>$99.98</td>\n",
       "    </tr>\n",
       "    <tr>\n",
       "      <th>WV</th>\n",
       "      <td>5335</td>\n",
       "      <td>$-100.00</td>\n",
       "      <td>$99.90</td>\n",
       "    </tr>\n",
       "    <tr>\n",
       "      <th>WY</th>\n",
       "      <td>855</td>\n",
       "      <td>$-103.00</td>\n",
       "      <td>$98.00</td>\n",
       "    </tr>\n",
       "  </tbody>\n",
       "</table>\n",
       "<p>123 rows × 3 columns</p>\n",
       "</div>"
      ],
      "text/plain": [
       "                  len       min      max\n",
       "merchant_state                          \n",
       "AK                793  $-102.00   $99.79\n",
       "AL              16670  $-100.00  $999.00\n",
       "AR               9554  $-100.00   $99.89\n",
       "AZ              18554  $-100.00   $99.99\n",
       "Andorra            32    $10.76   $47.64\n",
       "...               ...       ...      ...\n",
       "Vietnam            11  $-219.00  $264.37\n",
       "WA              29038  $-100.00  $998.37\n",
       "WI              17067  $-100.00   $99.98\n",
       "WV               5335  $-100.00   $99.90\n",
       "WY                855  $-103.00   $98.00\n",
       "\n",
       "[123 rows x 3 columns]"
      ]
     },
     "execution_count": 390,
     "metadata": {},
     "output_type": "execute_result"
    }
   ],
   "source": [
    "# Le nombre de transactions, le montant minimum et maximum, par état\n",
    "transactions.groupby([\"merchant_state\"]).amount.agg([len, min, max])"
   ]
  },
  {
   "cell_type": "markdown",
   "metadata": {},
   "source": [
    "#### Nous allons d'abord retirer les transactions venant d'autres pays, elles ne nous intéressent pas dans ce projet."
   ]
  },
  {
   "cell_type": "code",
   "execution_count": 391,
   "metadata": {},
   "outputs": [],
   "source": [
    "\n",
    "drop_indexes = transactions[ (transactions[\"merchant_state\"].str.len() > 2) ].index;\n",
    "\n",
    "transactions = transactions.drop(drop_indexes)"
   ]
  },
  {
   "cell_type": "markdown",
   "metadata": {},
   "source": [
    "# Traitement des valeurs nulles\n",
    "Lorsqu'une transaction est faite en ligne, le code postal et l'état du magasin ne peuvent pas exister.\n",
    "Nous allons donc remplacer ces cellules vides pour une meilleure visibilité et un futur traitement de ces données.\n",
    "\n",
    "Aussi, certaines transactions peuvent être erronées. Celles qui ne le sont pas auront la mention \"No error\"\n"
   ]
  },
  {
   "cell_type": "code",
   "execution_count": 392,
   "metadata": {},
   "outputs": [
    {
     "data": {
      "text/html": [
       "<div>\n",
       "<style scoped>\n",
       "    .dataframe tbody tr th:only-of-type {\n",
       "        vertical-align: middle;\n",
       "    }\n",
       "\n",
       "    .dataframe tbody tr th {\n",
       "        vertical-align: top;\n",
       "    }\n",
       "\n",
       "    .dataframe thead th {\n",
       "        text-align: right;\n",
       "    }\n",
       "</style>\n",
       "<table border=\"1\" class=\"dataframe\">\n",
       "  <thead>\n",
       "    <tr style=\"text-align: right;\">\n",
       "      <th></th>\n",
       "      <th>id</th>\n",
       "      <th>date</th>\n",
       "      <th>client_id</th>\n",
       "      <th>card_id</th>\n",
       "      <th>amount</th>\n",
       "      <th>use_chip</th>\n",
       "      <th>merchant_id</th>\n",
       "      <th>merchant_city</th>\n",
       "      <th>merchant_state</th>\n",
       "      <th>zip</th>\n",
       "      <th>mcc</th>\n",
       "      <th>errors</th>\n",
       "    </tr>\n",
       "  </thead>\n",
       "  <tbody>\n",
       "    <tr>\n",
       "      <th>7</th>\n",
       "      <td>7475335</td>\n",
       "      <td>2010-01-01 00:14:00</td>\n",
       "      <td>1684</td>\n",
       "      <td>2140</td>\n",
       "      <td>$26.46</td>\n",
       "      <td>Online Transaction</td>\n",
       "      <td>39021</td>\n",
       "      <td>ONLINE</td>\n",
       "      <td>NaN</td>\n",
       "      <td>NaN</td>\n",
       "      <td>4784</td>\n",
       "      <td>NaN</td>\n",
       "    </tr>\n",
       "    <tr>\n",
       "      <th>8</th>\n",
       "      <td>7475336</td>\n",
       "      <td>2010-01-01 00:21:00</td>\n",
       "      <td>335</td>\n",
       "      <td>5131</td>\n",
       "      <td>$261.58</td>\n",
       "      <td>Online Transaction</td>\n",
       "      <td>50292</td>\n",
       "      <td>ONLINE</td>\n",
       "      <td>NaN</td>\n",
       "      <td>NaN</td>\n",
       "      <td>7801</td>\n",
       "      <td>NaN</td>\n",
       "    </tr>\n",
       "    <tr>\n",
       "      <th>18</th>\n",
       "      <td>7475346</td>\n",
       "      <td>2010-01-01 00:34:00</td>\n",
       "      <td>394</td>\n",
       "      <td>4717</td>\n",
       "      <td>$26.04</td>\n",
       "      <td>Online Transaction</td>\n",
       "      <td>39021</td>\n",
       "      <td>ONLINE</td>\n",
       "      <td>NaN</td>\n",
       "      <td>NaN</td>\n",
       "      <td>4784</td>\n",
       "      <td>NaN</td>\n",
       "    </tr>\n",
       "    <tr>\n",
       "      <th>24</th>\n",
       "      <td>7475353</td>\n",
       "      <td>2010-01-01 00:43:00</td>\n",
       "      <td>301</td>\n",
       "      <td>3742</td>\n",
       "      <td>$10.17</td>\n",
       "      <td>Online Transaction</td>\n",
       "      <td>39021</td>\n",
       "      <td>ONLINE</td>\n",
       "      <td>NaN</td>\n",
       "      <td>NaN</td>\n",
       "      <td>4784</td>\n",
       "      <td>NaN</td>\n",
       "    </tr>\n",
       "    <tr>\n",
       "      <th>26</th>\n",
       "      <td>7475356</td>\n",
       "      <td>2010-01-01 00:45:00</td>\n",
       "      <td>566</td>\n",
       "      <td>3439</td>\n",
       "      <td>$16.86</td>\n",
       "      <td>Online Transaction</td>\n",
       "      <td>16798</td>\n",
       "      <td>ONLINE</td>\n",
       "      <td>NaN</td>\n",
       "      <td>NaN</td>\n",
       "      <td>4121</td>\n",
       "      <td>NaN</td>\n",
       "    </tr>\n",
       "    <tr>\n",
       "      <th>...</th>\n",
       "      <td>...</td>\n",
       "      <td>...</td>\n",
       "      <td>...</td>\n",
       "      <td>...</td>\n",
       "      <td>...</td>\n",
       "      <td>...</td>\n",
       "      <td>...</td>\n",
       "      <td>...</td>\n",
       "      <td>...</td>\n",
       "      <td>...</td>\n",
       "      <td>...</td>\n",
       "      <td>...</td>\n",
       "    </tr>\n",
       "    <tr>\n",
       "      <th>1240846</th>\n",
       "      <td>8966515</td>\n",
       "      <td>2010-12-31 23:08:00</td>\n",
       "      <td>1852</td>\n",
       "      <td>28</td>\n",
       "      <td>$20.48</td>\n",
       "      <td>Online Transaction</td>\n",
       "      <td>18563</td>\n",
       "      <td>ONLINE</td>\n",
       "      <td>NaN</td>\n",
       "      <td>NaN</td>\n",
       "      <td>4121</td>\n",
       "      <td>NaN</td>\n",
       "    </tr>\n",
       "    <tr>\n",
       "      <th>1240857</th>\n",
       "      <td>8966527</td>\n",
       "      <td>2010-12-31 23:28:00</td>\n",
       "      <td>1788</td>\n",
       "      <td>2538</td>\n",
       "      <td>$193.39</td>\n",
       "      <td>Online Transaction</td>\n",
       "      <td>73186</td>\n",
       "      <td>ONLINE</td>\n",
       "      <td>NaN</td>\n",
       "      <td>NaN</td>\n",
       "      <td>4814</td>\n",
       "      <td>NaN</td>\n",
       "    </tr>\n",
       "    <tr>\n",
       "      <th>1240858</th>\n",
       "      <td>8966528</td>\n",
       "      <td>2010-12-31 23:29:00</td>\n",
       "      <td>584</td>\n",
       "      <td>51</td>\n",
       "      <td>$269.30</td>\n",
       "      <td>Online Transaction</td>\n",
       "      <td>74934</td>\n",
       "      <td>ONLINE</td>\n",
       "      <td>NaN</td>\n",
       "      <td>NaN</td>\n",
       "      <td>3596</td>\n",
       "      <td>NaN</td>\n",
       "    </tr>\n",
       "    <tr>\n",
       "      <th>1240860</th>\n",
       "      <td>8966530</td>\n",
       "      <td>2010-12-31 23:31:00</td>\n",
       "      <td>1875</td>\n",
       "      <td>5955</td>\n",
       "      <td>$10.57</td>\n",
       "      <td>Online Transaction</td>\n",
       "      <td>39261</td>\n",
       "      <td>ONLINE</td>\n",
       "      <td>NaN</td>\n",
       "      <td>NaN</td>\n",
       "      <td>5815</td>\n",
       "      <td>NaN</td>\n",
       "    </tr>\n",
       "    <tr>\n",
       "      <th>1240866</th>\n",
       "      <td>8966537</td>\n",
       "      <td>2010-12-31 23:38:00</td>\n",
       "      <td>1797</td>\n",
       "      <td>1127</td>\n",
       "      <td>$28.25</td>\n",
       "      <td>Online Transaction</td>\n",
       "      <td>15143</td>\n",
       "      <td>ONLINE</td>\n",
       "      <td>NaN</td>\n",
       "      <td>NaN</td>\n",
       "      <td>4784</td>\n",
       "      <td>NaN</td>\n",
       "    </tr>\n",
       "  </tbody>\n",
       "</table>\n",
       "<p>134822 rows × 12 columns</p>\n",
       "</div>"
      ],
      "text/plain": [
       "              id                 date  client_id  card_id   amount  \\\n",
       "7        7475335  2010-01-01 00:14:00       1684     2140   $26.46   \n",
       "8        7475336  2010-01-01 00:21:00        335     5131  $261.58   \n",
       "18       7475346  2010-01-01 00:34:00        394     4717   $26.04   \n",
       "24       7475353  2010-01-01 00:43:00        301     3742   $10.17   \n",
       "26       7475356  2010-01-01 00:45:00        566     3439   $16.86   \n",
       "...          ...                  ...        ...      ...      ...   \n",
       "1240846  8966515  2010-12-31 23:08:00       1852       28   $20.48   \n",
       "1240857  8966527  2010-12-31 23:28:00       1788     2538  $193.39   \n",
       "1240858  8966528  2010-12-31 23:29:00        584       51  $269.30   \n",
       "1240860  8966530  2010-12-31 23:31:00       1875     5955   $10.57   \n",
       "1240866  8966537  2010-12-31 23:38:00       1797     1127   $28.25   \n",
       "\n",
       "                   use_chip  merchant_id merchant_city merchant_state  zip  \\\n",
       "7        Online Transaction        39021        ONLINE            NaN  NaN   \n",
       "8        Online Transaction        50292        ONLINE            NaN  NaN   \n",
       "18       Online Transaction        39021        ONLINE            NaN  NaN   \n",
       "24       Online Transaction        39021        ONLINE            NaN  NaN   \n",
       "26       Online Transaction        16798        ONLINE            NaN  NaN   \n",
       "...                     ...          ...           ...            ...  ...   \n",
       "1240846  Online Transaction        18563        ONLINE            NaN  NaN   \n",
       "1240857  Online Transaction        73186        ONLINE            NaN  NaN   \n",
       "1240858  Online Transaction        74934        ONLINE            NaN  NaN   \n",
       "1240860  Online Transaction        39261        ONLINE            NaN  NaN   \n",
       "1240866  Online Transaction        15143        ONLINE            NaN  NaN   \n",
       "\n",
       "          mcc errors  \n",
       "7        4784    NaN  \n",
       "8        7801    NaN  \n",
       "18       4784    NaN  \n",
       "24       4784    NaN  \n",
       "26       4121    NaN  \n",
       "...       ...    ...  \n",
       "1240846  4121    NaN  \n",
       "1240857  4814    NaN  \n",
       "1240858  3596    NaN  \n",
       "1240860  5815    NaN  \n",
       "1240866  4784    NaN  \n",
       "\n",
       "[134822 rows x 12 columns]"
      ]
     },
     "execution_count": 392,
     "metadata": {},
     "output_type": "execute_result"
    }
   ],
   "source": [
    "# Certaines valeurs sont nulles lorsque 'use_chip' est égal à 'Online Transaction'. C'est le cas de merchant_state et zip.\n",
    "transactions[pd.isnull(transactions.merchant_state)]\n"
   ]
  },
  {
   "cell_type": "code",
   "execution_count": 393,
   "metadata": {},
   "outputs": [
    {
     "data": {
      "text/plain": [
       "merchant_state    0\n",
       "zip               0\n",
       "dtype: int64"
      ]
     },
     "execution_count": 393,
     "metadata": {},
     "output_type": "execute_result"
    }
   ],
   "source": [
    "# Nous remplaçons ces cellules vides par une information plus pertinente\n",
    "transactions.merchant_state = transactions.merchant_state.fillna(\"Online\")\n",
    "transactions.zip = transactions.zip.fillna(\"Unknown\")\n",
    "\n",
    "# Vérifions bien que les états ne sont plus nuls.\n",
    "pd.Series([transactions.merchant_state.isnull().sum(), transactions.zip.isnull().sum()], [\"merchant_state\", \"zip\"])\n"
   ]
  },
  {
   "cell_type": "code",
   "execution_count": 394,
   "metadata": {},
   "outputs": [],
   "source": [
    "# Message d'erreur par défaut\n",
    "transactions.errors = transactions.errors.fillna(\"No error\")"
   ]
  },
  {
   "cell_type": "code",
   "execution_count": 395,
   "metadata": {},
   "outputs": [
    {
     "data": {
      "text/html": [
       "<div>\n",
       "<style scoped>\n",
       "    .dataframe tbody tr th:only-of-type {\n",
       "        vertical-align: middle;\n",
       "    }\n",
       "\n",
       "    .dataframe tbody tr th {\n",
       "        vertical-align: top;\n",
       "    }\n",
       "\n",
       "    .dataframe thead th {\n",
       "        text-align: right;\n",
       "    }\n",
       "</style>\n",
       "<table border=\"1\" class=\"dataframe\">\n",
       "  <thead>\n",
       "    <tr style=\"text-align: right;\">\n",
       "      <th></th>\n",
       "      <th>id</th>\n",
       "      <th>date</th>\n",
       "      <th>client_id</th>\n",
       "      <th>card_id</th>\n",
       "      <th>amount</th>\n",
       "      <th>use_chip</th>\n",
       "      <th>merchant_id</th>\n",
       "      <th>merchant_city</th>\n",
       "      <th>merchant_state</th>\n",
       "      <th>zip</th>\n",
       "      <th>mcc</th>\n",
       "      <th>errors</th>\n",
       "    </tr>\n",
       "  </thead>\n",
       "  <tbody>\n",
       "    <tr>\n",
       "      <th>7</th>\n",
       "      <td>7475335</td>\n",
       "      <td>2010-01-01 00:14:00</td>\n",
       "      <td>1684</td>\n",
       "      <td>2140</td>\n",
       "      <td>$26.46</td>\n",
       "      <td>Online Transaction</td>\n",
       "      <td>39021</td>\n",
       "      <td>ONLINE</td>\n",
       "      <td>Online</td>\n",
       "      <td>Unknown</td>\n",
       "      <td>4784</td>\n",
       "      <td>No error</td>\n",
       "    </tr>\n",
       "    <tr>\n",
       "      <th>8</th>\n",
       "      <td>7475336</td>\n",
       "      <td>2010-01-01 00:21:00</td>\n",
       "      <td>335</td>\n",
       "      <td>5131</td>\n",
       "      <td>$261.58</td>\n",
       "      <td>Online Transaction</td>\n",
       "      <td>50292</td>\n",
       "      <td>ONLINE</td>\n",
       "      <td>Online</td>\n",
       "      <td>Unknown</td>\n",
       "      <td>7801</td>\n",
       "      <td>No error</td>\n",
       "    </tr>\n",
       "    <tr>\n",
       "      <th>18</th>\n",
       "      <td>7475346</td>\n",
       "      <td>2010-01-01 00:34:00</td>\n",
       "      <td>394</td>\n",
       "      <td>4717</td>\n",
       "      <td>$26.04</td>\n",
       "      <td>Online Transaction</td>\n",
       "      <td>39021</td>\n",
       "      <td>ONLINE</td>\n",
       "      <td>Online</td>\n",
       "      <td>Unknown</td>\n",
       "      <td>4784</td>\n",
       "      <td>No error</td>\n",
       "    </tr>\n",
       "    <tr>\n",
       "      <th>24</th>\n",
       "      <td>7475353</td>\n",
       "      <td>2010-01-01 00:43:00</td>\n",
       "      <td>301</td>\n",
       "      <td>3742</td>\n",
       "      <td>$10.17</td>\n",
       "      <td>Online Transaction</td>\n",
       "      <td>39021</td>\n",
       "      <td>ONLINE</td>\n",
       "      <td>Online</td>\n",
       "      <td>Unknown</td>\n",
       "      <td>4784</td>\n",
       "      <td>No error</td>\n",
       "    </tr>\n",
       "    <tr>\n",
       "      <th>26</th>\n",
       "      <td>7475356</td>\n",
       "      <td>2010-01-01 00:45:00</td>\n",
       "      <td>566</td>\n",
       "      <td>3439</td>\n",
       "      <td>$16.86</td>\n",
       "      <td>Online Transaction</td>\n",
       "      <td>16798</td>\n",
       "      <td>ONLINE</td>\n",
       "      <td>Online</td>\n",
       "      <td>Unknown</td>\n",
       "      <td>4121</td>\n",
       "      <td>No error</td>\n",
       "    </tr>\n",
       "  </tbody>\n",
       "</table>\n",
       "</div>"
      ],
      "text/plain": [
       "         id                 date  client_id  card_id   amount  \\\n",
       "7   7475335  2010-01-01 00:14:00       1684     2140   $26.46   \n",
       "8   7475336  2010-01-01 00:21:00        335     5131  $261.58   \n",
       "18  7475346  2010-01-01 00:34:00        394     4717   $26.04   \n",
       "24  7475353  2010-01-01 00:43:00        301     3742   $10.17   \n",
       "26  7475356  2010-01-01 00:45:00        566     3439   $16.86   \n",
       "\n",
       "              use_chip  merchant_id merchant_city merchant_state      zip  \\\n",
       "7   Online Transaction        39021        ONLINE         Online  Unknown   \n",
       "8   Online Transaction        50292        ONLINE         Online  Unknown   \n",
       "18  Online Transaction        39021        ONLINE         Online  Unknown   \n",
       "24  Online Transaction        39021        ONLINE         Online  Unknown   \n",
       "26  Online Transaction        16798        ONLINE         Online  Unknown   \n",
       "\n",
       "     mcc    errors  \n",
       "7   4784  No error  \n",
       "8   7801  No error  \n",
       "18  4784  No error  \n",
       "24  4784  No error  \n",
       "26  4121  No error  "
      ]
     },
     "execution_count": 395,
     "metadata": {},
     "output_type": "execute_result"
    }
   ],
   "source": [
    "# Présentation des données nettoyées des valeurs nulles.\n",
    "# On voit bien les modifications appliquées sur les colonnes merchant_state, zip, et errors\n",
    "transactions.loc[transactions.use_chip == \"Online Transaction\"].head()"
   ]
  },
  {
   "cell_type": "markdown",
   "metadata": {},
   "source": [
    "# Nettoyage des données\n",
    "Maintenant que les données sont complètes, il faut les rendres plus simple à manipuler.\n",
    "\n",
    "C'est notamment le cas de la colonne \"amount\", qui est actuellement une chaîne de caractères, car elle commence par le symbole monétaire.\n",
    "Bien que cela reste lisible pour nous, cette colonne ne peut pas être manipulée pour des chiffres.\n",
    "\n",
    "Par exemple, on peut voir ci-dessous que la plus grande valeur (**top**) est $80.00, malgré la présences de transactions dépassant les $1000.\n",
    "Mais, si l'on compare caractère par caractère, $1 est plus petit que $8, donc c'est $80.00 qui sortira vainqueur de cette comparaison."
   ]
  },
  {
   "cell_type": "code",
   "execution_count": 396,
   "metadata": {},
   "outputs": [
    {
     "data": {
      "text/plain": [
       "count     1233660\n",
       "unique      37016\n",
       "top        $80.00\n",
       "freq        12983\n",
       "Name: amount, dtype: object"
      ]
     },
     "execution_count": 396,
     "metadata": {},
     "output_type": "execute_result"
    }
   ],
   "source": [
    "transactions.amount.describe()"
   ]
  },
  {
   "cell_type": "code",
   "execution_count": 397,
   "metadata": {},
   "outputs": [
    {
     "data": {
      "text/html": [
       "<div>\n",
       "<style scoped>\n",
       "    .dataframe tbody tr th:only-of-type {\n",
       "        vertical-align: middle;\n",
       "    }\n",
       "\n",
       "    .dataframe tbody tr th {\n",
       "        vertical-align: top;\n",
       "    }\n",
       "\n",
       "    .dataframe thead th {\n",
       "        text-align: right;\n",
       "    }\n",
       "</style>\n",
       "<table border=\"1\" class=\"dataframe\">\n",
       "  <thead>\n",
       "    <tr style=\"text-align: right;\">\n",
       "      <th></th>\n",
       "      <th>id</th>\n",
       "      <th>date</th>\n",
       "      <th>client_id</th>\n",
       "      <th>card_id</th>\n",
       "      <th>amount</th>\n",
       "      <th>use_chip</th>\n",
       "      <th>merchant_id</th>\n",
       "      <th>merchant_city</th>\n",
       "      <th>merchant_state</th>\n",
       "      <th>zip</th>\n",
       "      <th>mcc</th>\n",
       "      <th>errors</th>\n",
       "    </tr>\n",
       "  </thead>\n",
       "  <tbody>\n",
       "    <tr>\n",
       "      <th>0</th>\n",
       "      <td>7475327</td>\n",
       "      <td>2010-01-01 00:01:00</td>\n",
       "      <td>1556</td>\n",
       "      <td>2972</td>\n",
       "      <td>-77.00</td>\n",
       "      <td>Swipe Transaction</td>\n",
       "      <td>59935</td>\n",
       "      <td>Beulah</td>\n",
       "      <td>ND</td>\n",
       "      <td>58523.0</td>\n",
       "      <td>5499</td>\n",
       "      <td>No error</td>\n",
       "    </tr>\n",
       "    <tr>\n",
       "      <th>1</th>\n",
       "      <td>7475328</td>\n",
       "      <td>2010-01-01 00:02:00</td>\n",
       "      <td>561</td>\n",
       "      <td>4575</td>\n",
       "      <td>14.57</td>\n",
       "      <td>Swipe Transaction</td>\n",
       "      <td>67570</td>\n",
       "      <td>Bettendorf</td>\n",
       "      <td>IA</td>\n",
       "      <td>52722.0</td>\n",
       "      <td>5311</td>\n",
       "      <td>No error</td>\n",
       "    </tr>\n",
       "    <tr>\n",
       "      <th>2</th>\n",
       "      <td>7475329</td>\n",
       "      <td>2010-01-01 00:02:00</td>\n",
       "      <td>1129</td>\n",
       "      <td>102</td>\n",
       "      <td>80.00</td>\n",
       "      <td>Swipe Transaction</td>\n",
       "      <td>27092</td>\n",
       "      <td>Vista</td>\n",
       "      <td>CA</td>\n",
       "      <td>92084.0</td>\n",
       "      <td>4829</td>\n",
       "      <td>No error</td>\n",
       "    </tr>\n",
       "    <tr>\n",
       "      <th>3</th>\n",
       "      <td>7475331</td>\n",
       "      <td>2010-01-01 00:05:00</td>\n",
       "      <td>430</td>\n",
       "      <td>2860</td>\n",
       "      <td>200.00</td>\n",
       "      <td>Swipe Transaction</td>\n",
       "      <td>27092</td>\n",
       "      <td>Crown Point</td>\n",
       "      <td>IN</td>\n",
       "      <td>46307.0</td>\n",
       "      <td>4829</td>\n",
       "      <td>No error</td>\n",
       "    </tr>\n",
       "    <tr>\n",
       "      <th>4</th>\n",
       "      <td>7475332</td>\n",
       "      <td>2010-01-01 00:06:00</td>\n",
       "      <td>848</td>\n",
       "      <td>3915</td>\n",
       "      <td>46.41</td>\n",
       "      <td>Swipe Transaction</td>\n",
       "      <td>13051</td>\n",
       "      <td>Harwood</td>\n",
       "      <td>MD</td>\n",
       "      <td>20776.0</td>\n",
       "      <td>5813</td>\n",
       "      <td>No error</td>\n",
       "    </tr>\n",
       "  </tbody>\n",
       "</table>\n",
       "</div>"
      ],
      "text/plain": [
       "        id                 date  client_id  card_id  amount  \\\n",
       "0  7475327  2010-01-01 00:01:00       1556     2972  -77.00   \n",
       "1  7475328  2010-01-01 00:02:00        561     4575   14.57   \n",
       "2  7475329  2010-01-01 00:02:00       1129      102   80.00   \n",
       "3  7475331  2010-01-01 00:05:00        430     2860  200.00   \n",
       "4  7475332  2010-01-01 00:06:00        848     3915   46.41   \n",
       "\n",
       "            use_chip  merchant_id merchant_city merchant_state      zip   mcc  \\\n",
       "0  Swipe Transaction        59935        Beulah             ND  58523.0  5499   \n",
       "1  Swipe Transaction        67570    Bettendorf             IA  52722.0  5311   \n",
       "2  Swipe Transaction        27092         Vista             CA  92084.0  4829   \n",
       "3  Swipe Transaction        27092   Crown Point             IN  46307.0  4829   \n",
       "4  Swipe Transaction        13051       Harwood             MD  20776.0  5813   \n",
       "\n",
       "     errors  \n",
       "0  No error  \n",
       "1  No error  \n",
       "2  No error  \n",
       "3  No error  \n",
       "4  No error  "
      ]
     },
     "execution_count": 397,
     "metadata": {},
     "output_type": "execute_result"
    }
   ],
   "source": [
    "# On convertit la colonne en valeur numérique, en retirant le premier caractère de la colonne 'amount'\n",
    "transactions.amount = pd.to_numeric(transactions.amount.str[1:])\n",
    "transactions.head()"
   ]
  },
  {
   "cell_type": "markdown",
   "metadata": {},
   "source": [
    "### Actuellement, la colonne **date** est considérée comme un string par pandas.\n",
    "On va la convertir en date pour pouvoir la manipuler efficacement.  \n",
    "Nous allons également en profiter pour enregistrer le mois et le jour de la transaction."
   ]
  },
  {
   "cell_type": "code",
   "execution_count": 398,
   "metadata": {},
   "outputs": [
    {
     "data": {
      "text/html": [
       "<div>\n",
       "<style scoped>\n",
       "    .dataframe tbody tr th:only-of-type {\n",
       "        vertical-align: middle;\n",
       "    }\n",
       "\n",
       "    .dataframe tbody tr th {\n",
       "        vertical-align: top;\n",
       "    }\n",
       "\n",
       "    .dataframe thead th {\n",
       "        text-align: right;\n",
       "    }\n",
       "</style>\n",
       "<table border=\"1\" class=\"dataframe\">\n",
       "  <thead>\n",
       "    <tr style=\"text-align: right;\">\n",
       "      <th></th>\n",
       "      <th>id</th>\n",
       "      <th>date</th>\n",
       "      <th>client_id</th>\n",
       "      <th>card_id</th>\n",
       "      <th>amount</th>\n",
       "      <th>use_chip</th>\n",
       "      <th>merchant_id</th>\n",
       "      <th>merchant_city</th>\n",
       "      <th>merchant_state</th>\n",
       "      <th>zip</th>\n",
       "      <th>mcc</th>\n",
       "      <th>errors</th>\n",
       "      <th>parsed_date</th>\n",
       "      <th>month</th>\n",
       "      <th>day</th>\n",
       "    </tr>\n",
       "  </thead>\n",
       "  <tbody>\n",
       "    <tr>\n",
       "      <th>1240875</th>\n",
       "      <td>8966547</td>\n",
       "      <td>2010-12-31 23:48:00</td>\n",
       "      <td>1941</td>\n",
       "      <td>1109</td>\n",
       "      <td>2.39</td>\n",
       "      <td>Swipe Transaction</td>\n",
       "      <td>77275</td>\n",
       "      <td>Campbell</td>\n",
       "      <td>TX</td>\n",
       "      <td>75422.0</td>\n",
       "      <td>5812</td>\n",
       "      <td>No error</td>\n",
       "      <td>2010-12-31 23:48:00</td>\n",
       "      <td>12</td>\n",
       "      <td>31</td>\n",
       "    </tr>\n",
       "    <tr>\n",
       "      <th>1240876</th>\n",
       "      <td>8966548</td>\n",
       "      <td>2010-12-31 23:49:00</td>\n",
       "      <td>1145</td>\n",
       "      <td>5444</td>\n",
       "      <td>20.39</td>\n",
       "      <td>Swipe Transaction</td>\n",
       "      <td>56060</td>\n",
       "      <td>Appleton</td>\n",
       "      <td>WI</td>\n",
       "      <td>54913.0</td>\n",
       "      <td>4121</td>\n",
       "      <td>No error</td>\n",
       "      <td>2010-12-31 23:49:00</td>\n",
       "      <td>12</td>\n",
       "      <td>31</td>\n",
       "    </tr>\n",
       "    <tr>\n",
       "      <th>1240877</th>\n",
       "      <td>8966549</td>\n",
       "      <td>2010-12-31 23:51:00</td>\n",
       "      <td>487</td>\n",
       "      <td>2835</td>\n",
       "      <td>85.75</td>\n",
       "      <td>Swipe Transaction</td>\n",
       "      <td>36936</td>\n",
       "      <td>Albany</td>\n",
       "      <td>NY</td>\n",
       "      <td>12203.0</td>\n",
       "      <td>4900</td>\n",
       "      <td>No error</td>\n",
       "      <td>2010-12-31 23:51:00</td>\n",
       "      <td>12</td>\n",
       "      <td>31</td>\n",
       "    </tr>\n",
       "    <tr>\n",
       "      <th>1240878</th>\n",
       "      <td>8966550</td>\n",
       "      <td>2010-12-31 23:54:00</td>\n",
       "      <td>234</td>\n",
       "      <td>2052</td>\n",
       "      <td>60.00</td>\n",
       "      <td>Swipe Transaction</td>\n",
       "      <td>27092</td>\n",
       "      <td>Dallas</td>\n",
       "      <td>TX</td>\n",
       "      <td>75208.0</td>\n",
       "      <td>4829</td>\n",
       "      <td>No error</td>\n",
       "      <td>2010-12-31 23:54:00</td>\n",
       "      <td>12</td>\n",
       "      <td>31</td>\n",
       "    </tr>\n",
       "    <tr>\n",
       "      <th>1240879</th>\n",
       "      <td>8966551</td>\n",
       "      <td>2010-12-31 23:56:00</td>\n",
       "      <td>162</td>\n",
       "      <td>2240</td>\n",
       "      <td>140.96</td>\n",
       "      <td>Swipe Transaction</td>\n",
       "      <td>15574</td>\n",
       "      <td>Mcallen</td>\n",
       "      <td>TX</td>\n",
       "      <td>78503.0</td>\n",
       "      <td>3393</td>\n",
       "      <td>No error</td>\n",
       "      <td>2010-12-31 23:56:00</td>\n",
       "      <td>12</td>\n",
       "      <td>31</td>\n",
       "    </tr>\n",
       "  </tbody>\n",
       "</table>\n",
       "</div>"
      ],
      "text/plain": [
       "              id                 date  client_id  card_id  amount  \\\n",
       "1240875  8966547  2010-12-31 23:48:00       1941     1109    2.39   \n",
       "1240876  8966548  2010-12-31 23:49:00       1145     5444   20.39   \n",
       "1240877  8966549  2010-12-31 23:51:00        487     2835   85.75   \n",
       "1240878  8966550  2010-12-31 23:54:00        234     2052   60.00   \n",
       "1240879  8966551  2010-12-31 23:56:00        162     2240  140.96   \n",
       "\n",
       "                  use_chip  merchant_id merchant_city merchant_state      zip  \\\n",
       "1240875  Swipe Transaction        77275      Campbell             TX  75422.0   \n",
       "1240876  Swipe Transaction        56060      Appleton             WI  54913.0   \n",
       "1240877  Swipe Transaction        36936        Albany             NY  12203.0   \n",
       "1240878  Swipe Transaction        27092        Dallas             TX  75208.0   \n",
       "1240879  Swipe Transaction        15574       Mcallen             TX  78503.0   \n",
       "\n",
       "          mcc    errors         parsed_date  month  day  \n",
       "1240875  5812  No error 2010-12-31 23:48:00     12   31  \n",
       "1240876  4121  No error 2010-12-31 23:49:00     12   31  \n",
       "1240877  4900  No error 2010-12-31 23:51:00     12   31  \n",
       "1240878  4829  No error 2010-12-31 23:54:00     12   31  \n",
       "1240879  3393  No error 2010-12-31 23:56:00     12   31  "
      ]
     },
     "execution_count": 398,
     "metadata": {},
     "output_type": "execute_result"
    }
   ],
   "source": [
    "transactions[\"parsed_date\"] = pd.to_datetime(transactions.date, format=\"%Y-%m-%d %H:%M:%S\")\n",
    "\n",
    "transactions[\"month\"] = transactions[\"parsed_date\"].apply(lambda d: d.month)\n",
    "transactions[\"day\"] = transactions[\"parsed_date\"].apply(lambda d: d.day)\n",
    "\n",
    "# transactions[\"parsed_date\"].head()\n",
    "transactions.tail()"
   ]
  },
  {
   "cell_type": "markdown",
   "metadata": {},
   "source": [
    "### Suppression des données\n",
    "Nous supposons qu'un client ne peut faire 2 transactions au même moment avec la même carte, nous allons les retirer.\n",
    "\n"
   ]
  },
  {
   "cell_type": "code",
   "execution_count": 399,
   "metadata": {},
   "outputs": [
    {
     "data": {
      "text/plain": [
       "0    1233660\n",
       "1    1226440\n",
       "dtype: int64"
      ]
     },
     "execution_count": 399,
     "metadata": {},
     "output_type": "execute_result"
    }
   ],
   "source": [
    "transactions_before_removal = transactions;\n",
    "\n",
    "transactions = transactions.drop_duplicates(subset=['parsed_date', 'client_id', 'card_id'], keep=\"last\")\n",
    "\n",
    "\n",
    "# On peut observer une suppression de 7220 doublons\n",
    "pd.Series([transactions_before_removal.shape[0], transactions.shape[0]])\n"
   ]
  },
  {
   "cell_type": "markdown",
   "metadata": {},
   "source": [
    "# Réponse à la problématique\n",
    "Maintenant que les données sont nettoyées, nous pouvons tenter de répondre à la problématique.  \n",
    "Pour rappel, nous souhaitons observer les tendances de dépenses des gens.  \n",
    "Plus précisement, nous regarderons les tendances suivantes:\n",
    "-   Dépenses par zones géographiques.\n",
    "-   Le nombre de transactions selon le jour, le mois."
   ]
  },
  {
   "cell_type": "code",
   "execution_count": 400,
   "metadata": {},
   "outputs": [
    {
     "data": {
      "text/plain": [
       "<Axes: title={'center': 'Dépenses totales par état'}, ylabel='amount'>"
      ]
     },
     "execution_count": 400,
     "metadata": {},
     "output_type": "execute_result"
    },
    {
     "data": {
      "image/png": "[encoded data removed]",
      "text/plain": [
       "<Figure size 1600x1200 with 1 Axes>"
      ]
     },
     "metadata": {},
     "output_type": "display_data"
    }
   ],
   "source": [
    "# Dépenses par zones géographiques\n",
    "plt.figure(figsize=(16,12))\n",
    "plt.title(\"Dépenses totales par état\")\n",
    "\n",
    "# montant des dépenses par état\n",
    "transactions_by_state = transactions.groupby(['merchant_state']).amount\n",
    "amount_by_state = transactions_by_state.sum()\n",
    "sns.barplot(x=list(transactions_by_state.indices), y=amount_by_state)\n",
    "\n",
    "\n"
   ]
  },
  {
   "cell_type": "code",
   "execution_count": 401,
   "metadata": {},
   "outputs": [
    {
     "data": {
      "text/plain": [
       "Californie    5715336.47\n",
       "En ligne      7942632.11\n",
       "dtype: float64"
      ]
     },
     "execution_count": 401,
     "metadata": {},
     "output_type": "execute_result"
    }
   ],
   "source": [
    "pd.Series([amount_by_state[\"CA\"], amount_by_state[\"Online\"]], [\"Californie\", \"En ligne\"])"
   ]
  },
  {
   "cell_type": "markdown",
   "metadata": {},
   "source": [
    "Ce graphique nous permet de voir que l'état CA (**Californie**) est le plus dépensier, avec plus de 5.700.000 dollars de dépenses en tout.  \n",
    "Il nous permet également de voir que les américains dépensent beaucoup plus sur internet que dans les magasins, avec plus de 7.900.000 dollars en tout.  \n",
    "Ci-dessous, nous pouvons observer que la moyenne de dépense par état est de 1.034.564 dollars"
   ]
  },
  {
   "cell_type": "code",
   "execution_count": 402,
   "metadata": {},
   "outputs": [
    {
     "data": {
      "text/plain": [
       "1034564.28"
      ]
     },
     "execution_count": 402,
     "metadata": {},
     "output_type": "execute_result"
    }
   ],
   "source": [
    "round(float(amount_by_state.describe()[\"mean\"]), 2)"
   ]
  },
  {
   "cell_type": "markdown",
   "metadata": {},
   "source": [
    "### Tendances de dépenses selon la période"
   ]
  },
  {
   "cell_type": "code",
   "execution_count": 403,
   "metadata": {},
   "outputs": [
    {
     "data": {
      "text/plain": [
       "<Axes: title={'center': 'Dépenses totales par mois'}, ylabel='amount'>"
      ]
     },
     "execution_count": 403,
     "metadata": {},
     "output_type": "execute_result"
    },
    {
     "data": {
      "image/png": "[encoded data removed]",
      "text/plain": [
       "<Figure size 1800x1000 with 1 Axes>"
      ]
     },
     "metadata": {},
     "output_type": "display_data"
    }
   ],
   "source": [
    "months = [\"Jan\", \"Feb\", \"Mar\", \"Apr\", \"May\", \"Jun\", \"Jul\", \"Aug\", \"Sep\", \"Oct\", \"Nov\", \"Dec\"]\n",
    "\n",
    "plt.figure(figsize=(18,10))\n",
    "plt.title(\"Dépenses totales par mois\")\n",
    "\n",
    "transactions_by_date = transactions.groupby(['month']).amount\n",
    "amount_by_date = transactions_by_date.sum()\n",
    "sns.barplot(x=months, y=amount_by_date)"
   ]
  },
  {
   "cell_type": "markdown",
   "metadata": {},
   "source": [
    "\n",
    "\n",
    "Étant donné que le nombre de transactions est très grand, ce graphique est très compact.  \n",
    "Nous allons donc nous intéresser à un état en particulier, et observer son évolution en fonction des mois."
   ]
  },
  {
   "cell_type": "code",
   "execution_count": 404,
   "metadata": {},
   "outputs": [
    {
     "data": {
      "text/plain": [
       "<Axes: xlabel='month', ylabel='amount'>"
      ]
     },
     "execution_count": 404,
     "metadata": {},
     "output_type": "execute_result"
    },
    {
     "data": {
      "image/png": "[encoded data removed]",
      "text/plain": [
       "<Figure size 1600x800 with 1 Axes>"
      ]
     },
     "metadata": {},
     "output_type": "display_data"
    }
   ],
   "source": [
    "\n",
    "plt.figure(figsize=(16,8))\n",
    "\n",
    "observed_state = \"CA\"\n",
    "\n",
    "amount_by_state_per_month = transactions.groupby(['merchant_state', 'month']).amount.sum()\n",
    "\n",
    "sns.lineplot(data=amount_by_state_per_month[observed_state])"
   ]
  },
  {
   "cell_type": "markdown",
   "metadata": {},
   "source": [
    "Pour observer un autre état, il suffit de modifier la variable **observed_state**.  \n",
    "Il est très clair que le mois le plus actif est le mois d'octobre.  \n",
    "En extrapolant un peu, ce pic est potentiellement lié à Thanksgiving, ou bien Noël pour les plus prévoyants.  \n",
    "\n",
    "##### Et si on observait cette même tendance en ligne ?"
   ]
  },
  {
   "cell_type": "code",
   "execution_count": 405,
   "metadata": {},
   "outputs": [
    {
     "data": {
      "text/plain": [
       "<Axes: xlabel='month', ylabel='amount'>"
      ]
     },
     "execution_count": 405,
     "metadata": {},
     "output_type": "execute_result"
    },
    {
     "data": {
      "image/png": "[encoded data removed]",
      "text/plain": [
       "<Figure size 1600x800 with 1 Axes>"
      ]
     },
     "metadata": {},
     "output_type": "display_data"
    }
   ],
   "source": [
    "amount_by_state_per_month = transactions.groupby(['merchant_state', 'month']).amount.sum()\n",
    "\n",
    "plt.figure(figsize=(16,8))\n",
    "\n",
    "sns.lineplot(data=amount_by_state_per_month[\"Online\"])"
   ]
  },
  {
   "cell_type": "markdown",
   "metadata": {},
   "source": [
    "On peut observer qu'en ligne, la tendance d'achat semble augmenter les mois impairs.  \n",
    "Nous pensons que cette information n'est pas cohérente et n'est liée à aucun évènement en particulier.\n",
    "\n",
    "#### Pour finir: La tendance journalière"
   ]
  },
  {
   "cell_type": "code",
   "execution_count": 406,
   "metadata": {},
   "outputs": [
    {
     "data": {
      "text/plain": [
       "<Axes: title={'center': 'Observation du mois: Dec'}, ylabel='amount'>"
      ]
     },
     "execution_count": 406,
     "metadata": {},
     "output_type": "execute_result"
    },
    {
     "data": {
      "image/png": "[encoded data removed]",
      "text/plain": [
       "<Figure size 1000x800 with 1 Axes>"
      ]
     },
     "metadata": {},
     "output_type": "display_data"
    }
   ],
   "source": [
    "observed_month = 12\n",
    "\n",
    "plt.figure(figsize=(10,8))\n",
    "plt.title(\"Observation du mois: \" + months[observed_month - 1])\n",
    "\n",
    "amount_by_day_of_month = transactions.groupby(['month', 'day']).amount\n",
    "\n",
    "\n",
    "sns.barplot(x=list(amount_by_day_of_month.sum()[observed_month].keys()), y=amount_by_day_of_month.sum()[observed_month])\n"
   ]
  },
  {
   "cell_type": "markdown",
   "metadata": {},
   "source": [
    "Pour le mois de décembre par exemple, nous observons que le jour le moins \"productif\" est le 25 décembre:"
   ]
  },
  {
   "cell_type": "code",
   "execution_count": 407,
   "metadata": {},
   "outputs": [
    {
     "data": {
      "text/plain": [
       "25 Décembre         134561.61\n",
       "Jour le plus bas    134561.61\n",
       "dtype: float64"
      ]
     },
     "execution_count": 407,
     "metadata": {},
     "output_type": "execute_result"
    }
   ],
   "source": [
    "pd.Series([amount_by_day_of_month.sum()[12][25], amount_by_day_of_month.sum()[12].min()], [\"25 Décembre\", \"Jour le plus bas\"])"
   ]
  },
  {
   "cell_type": "markdown",
   "metadata": {},
   "source": [
    "Probablement car il s'agit d'un jour férié; C'est également le cas du 1er janvier:"
   ]
  },
  {
   "cell_type": "code",
   "execution_count": 408,
   "metadata": {},
   "outputs": [
    {
     "data": {
      "text/plain": [
       "1 Janvier           124120.07\n",
       "Jour le plus bas    124120.07\n",
       "dtype: float64"
      ]
     },
     "execution_count": 408,
     "metadata": {},
     "output_type": "execute_result"
    }
   ],
   "source": [
    "pd.Series([amount_by_day_of_month.sum()[1][1], amount_by_day_of_month.sum()[1].min()], [\"1 Janvier\", \"Jour le plus bas\"])\n"
   ]
  }
 ],
 "metadata": {
  "kernelspec": {
   "display_name": "Python 3",
   "language": "python",
   "name": "python3"
  },
  "language_info": {
   "codemirror_mode": {
    "name": "ipython",
    "version": 3
   },
   "file_extension": ".py",
   "mimetype": "text/x-python",
   "name": "python",
   "nbconvert_exporter": "python",
   "pygments_lexer": "ipython3",
   "version": "3.13.0"
  }
 },
 "nbformat": 4,
 "nbformat_minor": 2
}
